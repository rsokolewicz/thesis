{
 "cells": [
  {
   "cell_type": "code",
   "execution_count": 1,
   "metadata": {},
   "outputs": [],
   "source": [
    "import re\n",
    "import numpy as np"
   ]
  },
  {
   "cell_type": "code",
   "execution_count": 2,
   "metadata": {
    "scrolled": true
   },
   "outputs": [
    {
     "name": "stdout",
     "output_type": "stream",
     "text": [
      "% Encoding: windows-1252\n",
      "\n",
      "\n",
      "@article{qi_topological_2008,\n",
      "  title = {Topological field theory of time-reversal invariant insulators},\n",
      "  volume = {78},\n",
      "  url = {https://link.aps.org/doi/10.1103/PhysRevB.78.195424},\n",
      "  doi = {10.1103/PhysRevB.78.195424},\n",
      "  abstract = {We show that the fundamental time-reversal invariant (TRI) insulator exists in 4+1 dimensions, where the effective-field theory is described by the (4+1)-dimensional Chern-Simons theory and the topological properties of the electronic \n"
     ]
    }
   ],
   "source": [
    "with open('Bibliography.bib', 'r') as file:\n",
    "    data = file.read()\n",
    "print(data[:500])"
   ]
  },
  {
   "cell_type": "code",
   "execution_count": 5,
   "metadata": {},
   "outputs": [],
   "source": [
    "def bib2dict(data):\n",
    "    keys    = re.findall(r\"@.+?\\{(.+?),\" , data, flags=re.DOTALL)\n",
    "    entries = re.findall(r\"(@.+?)(?=@|$)\", data, flags=re.DOTALL)\n",
    "    \n",
    "    bib = {}\n",
    "    for key, entry in zip(keys, entries):\n",
    "        bib[key] = entry\n",
    "    return bib\n",
    "\n",
    "def GetUrls(bib):\n",
    "    urlbib = {}\n",
    "    for key in bib.keys():\n",
    "        urlbib[key] = re.findall(\"[Uu]rl[ =\\{]+(.+?)[\\},]\", bib[key], flags=re.DOTALL)\n",
    "    return urlbib\n"
   ]
  },
  {
   "cell_type": "code",
   "execution_count": 9,
   "metadata": {},
   "outputs": [
    {
     "name": "stdout",
     "output_type": "stream",
     "text": [
      "515\n",
      "515\n"
     ]
    }
   ],
   "source": [
    "print(len(re.findall(r\"@.+?\\{(.+?),\" , data, flags=re.DOTALL)))\n",
    "print(len(re.findall(r\"(@.+?)(?=@|$)\", data, flags=re.DOTALL)))\n"
   ]
  },
  {
   "cell_type": "code",
   "execution_count": 7,
   "metadata": {},
   "outputs": [
    {
     "name": "stdout",
     "output_type": "stream",
     "text": [
      "Cha2018\n",
      "@article{Cha2018,\n",
      "\tAbstract = {Quantum optoelectronic d\n",
      "['https://doi.org/10.1038/s41565-018-0195-y']\n"
     ]
    }
   ],
   "source": [
    "bib = bib2dict(data)\n",
    "urlbib = GetUrls(bib)\n",
    "key = list(bib.keys())[99]\n",
    "print(key)\n",
    "print(bib[key][:55])\n",
    "print(urlbib[key])\n"
   ]
  },
  {
   "cell_type": "code",
   "execution_count": 8,
   "metadata": {},
   "outputs": [
    {
     "data": {
      "text/plain": [
       "{'pandey_doping_2017': ['pandey_doping_2017-1'],\n",
       " 'tshitoyan_electrical_2015': ['Tshitoyan2015'],\n",
       " 'bodnar_writing_2018': ['bodnar_writing_2018-1'],\n",
       " 'ghosh_nonequilibrium_2019': ['ghosh_nonequilibrium_2019-1', 'Ghosh2019'],\n",
       " 'akosa_theory_2018': ['akosa_theory_2018-1', 'Akosa2018'],\n",
       " 'jungwirth_multiple_2018': ['jungwirth_multiple_2018-1'],\n",
       " 'fjaerbu_electrically_2017': ['Faerbu1995'],\n",
       " 'sakai_spin_2014': ['Sakai2014'],\n",
       " 'qiao_microscopic_2012': ['Qiao2012'],\n",
       " 'ghosh_spin-orbit_2017': ['Ghosh2017'],\n",
       " 'van_leuken_half-metallic_1995': ['deGroot1995'],\n",
       " 'gomonay_high_2016': ['gomonay_high_2016-1', 'Gomonay2016AFM'],\n",
       " 'kurt_cubic_2014': ['Kurt2014'],\n",
       " 'jungfleisch_perspectives_2018': ['jungfleisch_perspectives_2018-1',\n",
       "  'Hoffman2018'],\n",
       " 'freimuth_spin-orbit_2014': ['2014MokrousovSOT'],\n",
       " 'baltz_antiferromagnetic_2018': ['baltz_antiferromagnetic_2018-1',\n",
       "  'Baltz2018'],\n",
       " 'zelezny_spin-orbit_2017': ['Zelezny2017'],\n",
       " 'watanabe_symmetry_2018': ['Watanabe2018'],\n",
       " 'zhou_large_2019': ['zhou_large_2019-1', 'Zhou2019a'],\n",
       " 'bader_spintronics_2010': ['Bader2010'],\n",
       " 'zhou_strong_2018': ['Zhou2018'],\n",
       " 'Hals2013': ['hals_phenomenology_2013'],\n",
       " 'zhou_fieldlike_2019': ['Zhou2019'],\n",
       " 'ado_microscopic_2017': ['AdoSOT2017'],\n",
       " 'bhatti_spintronics_2017': ['Bhatti2017'],\n",
       " 'shiino_antiferromagnetic_2016': ['Shiino2016'],\n",
       " 'edelstein_spin_1990': ['Edelstein1990'],\n",
       " 'burkov_spin_2010-1': ['burkov_spin_2010'],\n",
       " 'groth_kwant:_2014': ['Groth2014'],\n",
       " 'ivan': ['ivanEPL'],\n",
       " 'moriyama_spin-orbit-torque_2018': ['moriyama_spin-orbit-torque_2018-1',\n",
       "  'Moriyama2018'],\n",
       " 'olejnik_terahertz_2018': ['Olejnik2018'],\n",
       " 'li_manipulation_2019': ['Li2019'],\n",
       " 'ivanPRL': ['ado2016crossing', '2016AdoPRL'],\n",
       " 'barker_static_2016': ['Barker2016'],\n",
       " 'Manchon2017': ['ManchonJPCM2017'],\n",
       " 'zelezny_relativistic_2014': ['Zelezny2014'],\n",
       " 'Garate2009GD': ['PhysRevB.79.064404'],\n",
       " 'manchon_theory_2008': ['ManchonPRB2008'],\n",
       " 'ado_anisotropy_2019': ['AdoSTTGD2019'],\n",
       " 'garate_influence_2009': ['GarateSOT2009'],\n",
       " 'hals_phenomenology_2011': ['Hals2011'],\n",
       " 'vanderBijl2012': ['van_der_bijl_current-induced_2012', 'Duine2012'],\n",
       " 'smejkal_electric_2017': ['SmejkalAFM_2017'],\n",
       " 'kane_$z_2$_2005': ['Kane2005'],\n",
       " 'roschewsky_spin-orbit_2017': ['Roschewsky2017'],\n",
       " 'bhattacharjee_neel_2018': ['Bhattacharjee2018'],\n",
       " 'ezawa_photoinduced_2013': ['ezawa_photoinduced_2013-1'],\n",
       " 'ivanPRB': ['Ado2017PRBcrossing']}"
      ]
     },
     "execution_count": 8,
     "metadata": {},
     "output_type": "execute_result"
    }
   ],
   "source": [
    "unique_urls = set([urlbib[key][0] for key in urlbib.keys() if urlbib[key] != []])\n",
    "duplicates = {}\n",
    "for url in unique_urls:\n",
    "    duplicates[url] = []\n",
    "    for key in urlbib.keys():\n",
    "        try:\n",
    "            if urlbib[key][0] == url:\n",
    "                duplicates[url].append(key)\n",
    "        except:\n",
    "            None\n",
    "\n",
    "keys = list(duplicates.keys())\n",
    "for key in keys:\n",
    "    if len(duplicates[key])==1:\n",
    "        duplicates.pop(key,None)\n",
    "replace_dict = {}\n",
    "for key in duplicates.keys():\n",
    "    value = duplicates[key]\n",
    "    replace_dict[value[0]] = value[1:]\n",
    "    for item in value[1:]:\n",
    "        bib.pop(item, None)\n",
    "replace_dict"
   ]
  },
  {
   "cell_type": "code",
   "execution_count": 15,
   "metadata": {},
   "outputs": [],
   "source": [
    "def GetReplaceDict(data):\n",
    "    bib = bib2dict(data)\n",
    "    urlbib = GetUrls(bib)\n",
    "    unique_urls = set([urlbib[key][0] for key in urlbib.keys() if urlbib[key] != []])\n",
    "    duplicates = {}\n",
    "    for url in unique_urls:\n",
    "        duplicates[url] = []\n",
    "        for key in urlbib.keys():\n",
    "            try:\n",
    "                if urlbib[key][0] == url:\n",
    "                    duplicates[url].append(key)\n",
    "            except:\n",
    "                None\n",
    "\n",
    "    keys = list(duplicates.keys())\n",
    "    for key in keys:\n",
    "        if len(duplicates[key])==1:\n",
    "            duplicates.pop(key,None)\n",
    "    replace_dict = {}\n",
    "    for key in duplicates.keys():\n",
    "        value = duplicates[key]\n",
    "        replace_dict[value[0]] = value[1:]\n",
    "        for item in value[1:]:\n",
    "            bib.pop(item, None)\n",
    "    \n",
    "    return replace_dict"
   ]
  },
  {
   "cell_type": "code",
   "execution_count": 223,
   "metadata": {},
   "outputs": [],
   "source": [
    "def GetReplaceDict(data):\n",
    "    bib = bib2dict(data)\n",
    "    urlbib = GetUrls(bib)\n",
    "    unique_urls = set([urlbib[key][0] for key in urlbib.keys() if urlbib[key] != []])\n",
    "    duplicates = {}\n",
    "    for url in unique_urls:\n",
    "        duplicates[url] = []\n",
    "        for key in urlbib.keys():\n",
    "            try:\n",
    "                if urlbib[key][0] == url:\n",
    "                    duplicates[url].append(key)\n",
    "            except:\n",
    "                None\n",
    "\n",
    "    keys = list(duplicates.keys())\n",
    "    for key in keys:\n",
    "        if len(duplicates[key])==1:\n",
    "            duplicates.pop(key,None)\n",
    "    replace_dict = {}\n",
    "    for key in duplicates.keys():\n",
    "        value = duplicates[key]\n",
    "        replace_dict[value[0]] = value[1:]\n",
    "        for item in value[1:]:\n",
    "            bib.pop(item, None)\n",
    "    \n",
    "    return replace_dict\n",
    "\n",
    "def bib2dict(data):\n",
    "    keys    = re.findall(r\"@.+?\\{(.+?),\" , data, flags=re.DOTALL)\n",
    "    entries = re.findall(r\"(@.+?)(?=@|$)\", data, flags=re.DOTALL)\n",
    "    \n",
    "    bib = {}\n",
    "    for key, entry in zip(keys, entries):\n",
    "        bib[key] = entry\n",
    "    return bib\n",
    "\n",
    "def GetUrls(bib):\n",
    "    urlbib = {}\n",
    "    for key in bib.keys():\n",
    "        urlbib[key] = re.findall(\"[Uu]rl[ =\\{]+(.+?)[\\},]\", bib[key], flags=re.DOTALL)\n",
    "    return urlbib\n",
    "\n",
    "\n",
    "def RemoveDuplicatesInBibfile(bibin, bibout):\n",
    "    counter = 0\n",
    "    with open(bibin, 'r') as file:\n",
    "        data = file.read()\n",
    "    replace_dict = GetReplaceDict(data)\n",
    "    entries = re.findall(r\"(@.+?)(?=@|$)\", data, flags=re.DOTALL)\n",
    "\n",
    "    for key in replace_dict.keys():\n",
    "        for replacekey in replace_dict[key]:\n",
    "            for i in range(len(entries) - 1, -1, -1):\n",
    "                element = entries[i]\n",
    "                match = re.findall(r\"(@.+?{{{key},)\".format(key=replacekey), element, flags=re.DOTALL)\n",
    "\n",
    "                if match != []:\n",
    "                    del entries[i]\n",
    "                    print(\"Removed the following entry: {key}\".format(key=replacekey))\n",
    "                    counter = counter + 1\n",
    "                    break\n",
    "                    \n",
    "    with open(bibout, 'w') as file:\n",
    "        file.write(''.join(entries))\n",
    "    print(\"Removed a total of {counter} duplicates from the bibfile.\\n\".format(counter=counter))\n",
    "\n",
    "\n",
    "def ReplaceCiteKeys(bib, filein, fileout):\n",
    "    \n",
    "    counter = 0\n",
    "    with open(bib, 'r') as file:\n",
    "        data = file.read()\n",
    "    replace_dict = GetReplaceDict(data)\n",
    "    \n",
    "    with open(filein, 'r') as file:\n",
    "        data = file.read()\n",
    "    print(\"Updating {file}...\".format(file=filein))    \n",
    "    for key in replace_dict.keys():\n",
    "        for replacekey in replace_dict[key]:\n",
    "            pattern = r\"\\\\cite{{(.*)({key})([, }}])\".format(key=replacekey)\n",
    "\n",
    "            data, n = re.subn(pattern, r\"\\\\cite{{\\1{key}\\3\".format(key=key), data, flags=re.DOTALL)\n",
    "            counter = counter + n\n",
    "            if n != 0:\n",
    "                print(r\"Replaced \\cite{{{key1}}} with \\cite{{{key2}}} {n} times in {file}\".format(\n",
    "                    key1 = replacekey, key2=key, file=filein, n=n))\n",
    "            \n",
    "    with open(fileout, 'w') as file:\n",
    "        file.write(data)\n",
    "    print(r\"Updated a total of {counter} citation keys\".format(counter=counter))\n",
    "    \n",
    "def MakeBackup(filename):\n",
    "    with open(filename, 'r') as file:\n",
    "        data = file.read()\n",
    "    with open(filename+'.backup', 'w') as file:\n",
    "        file.write(data)\n"
   ]
  },
  {
   "cell_type": "code",
   "execution_count": 180,
   "metadata": {},
   "outputs": [
    {
     "name": "stdout",
     "output_type": "stream",
     "text": [
      "\\\\cite{slonczewski_current-driven_1996}\n"
     ]
    }
   ],
   "source": [
    "print(r\"\\\\cite{{{key}}}\".format(key=\"slonczewski_current-driven_1996\"))"
   ]
  },
  {
   "cell_type": "code",
   "execution_count": 222,
   "metadata": {},
   "outputs": [
    {
     "name": "stdout",
     "output_type": "stream",
     "text": [
      "\\cite{bbb,aaa}\n",
      "\\cite{bbb,AAA}\n"
     ]
    }
   ],
   "source": [
    "example = r\"\\cite{bbb,aaa}\"\n",
    "\"start\"\n",
    "print(re.sub(r\"\\\\cite{{({key})\".format(key=\"aaa\")\n",
    "            ,r\"\\\\cite{{{key}\".format(key=\"AAA\"), example, flags=re.DOTALL))\n",
    "\n",
    "\"middle or end\"\n",
    "print(re.sub(r\"\\\\cite{{(.*)({key})([, }}])\".format(key=\"aaa\")\n",
    "            ,r\"\\\\cite{{\\1{key}\\3\".format(key=\"AAA\"), example, flags=re.DOTALL))\n",
    "\n"
   ]
  },
  {
   "cell_type": "code",
   "execution_count": 22,
   "metadata": {},
   "outputs": [],
   "source": [
    "files = ['./Chapters/Introduction.tex',\n",
    "         './Chapters/Chapter01.tex',\n",
    "         './Chapters/Chapter02.tex',\n",
    "         './Chapters/Chapter03.tex',\n",
    "         './Chapters/Chapter0A.tex',\n",
    "         './Chapters/Chapter0B.tex',\n",
    "         './Chapters/Chapter0C.tex',\n",
    "         './Chapters/Chapter0D.tex'\n",
    "        ]\n",
    "filesbackup = []\n",
    "for file in files:\n",
    "    MakeBackup(file)\n",
    "MakeBackup('Bibliography.bib')\n"
   ]
  },
  {
   "cell_type": "code",
   "execution_count": 141,
   "metadata": {
    "scrolled": true
   },
   "outputs": [
    {
     "name": "stdout",
     "output_type": "stream",
     "text": [
      "Removed the following entry: pandey_doping_2017-1\n",
      "Removed the following entry: Tshitoyan2015\n",
      "Removed the following entry: bodnar_writing_2018-1\n",
      "Removed the following entry: ghosh_nonequilibrium_2019-1\n",
      "Removed the following entry: Ghosh2019\n",
      "Removed the following entry: akosa_theory_2018-1\n",
      "Removed the following entry: Akosa2018\n",
      "Removed the following entry: jungwirth_multiple_2018-1\n",
      "Removed the following entry: Faerbu1995\n",
      "Removed the following entry: Sakai2014\n",
      "Removed the following entry: Qiao2012\n",
      "Removed the following entry: Ghosh2017\n",
      "Removed the following entry: deGroot1995\n",
      "Removed the following entry: gomonay_high_2016-1\n",
      "Removed the following entry: Gomonay2016AFM\n",
      "Removed the following entry: Kurt2014\n",
      "Removed the following entry: jungfleisch_perspectives_2018-1\n",
      "Removed the following entry: Hoffman2018\n",
      "Removed the following entry: 2014MokrousovSOT\n",
      "Removed the following entry: baltz_antiferromagnetic_2018-1\n",
      "Removed the following entry: Baltz2018\n",
      "Removed the following entry: Zelezny2017\n",
      "Removed the following entry: Watanabe2018\n",
      "Removed the following entry: zhou_large_2019-1\n",
      "Removed the following entry: Zhou2019a\n",
      "Removed the following entry: Bader2010\n",
      "Removed the following entry: Zhou2018\n",
      "Removed the following entry: hals_phenomenology_2013\n",
      "Removed the following entry: Zhou2019\n",
      "Removed the following entry: AdoSOT2017\n",
      "Removed the following entry: Bhatti2017\n",
      "Removed the following entry: Shiino2016\n",
      "Removed the following entry: Edelstein1990\n",
      "Removed the following entry: burkov_spin_2010\n",
      "Removed the following entry: Groth2014\n",
      "Removed the following entry: ivanEPL\n",
      "Removed the following entry: moriyama_spin-orbit-torque_2018-1\n",
      "Removed the following entry: Moriyama2018\n",
      "Removed the following entry: Olejnik2018\n",
      "Removed the following entry: Li2019\n",
      "Removed the following entry: ado2016crossing\n",
      "Removed the following entry: 2016AdoPRL\n",
      "Removed the following entry: Barker2016\n",
      "Removed the following entry: ManchonJPCM2017\n",
      "Removed the following entry: Zelezny2014\n",
      "Removed the following entry: PhysRevB.79.064404\n",
      "Removed the following entry: ManchonPRB2008\n",
      "Removed the following entry: AdoSTTGD2019\n",
      "Removed the following entry: GarateSOT2009\n",
      "Removed the following entry: Hals2011\n",
      "Removed the following entry: van_der_bijl_current-induced_2012\n",
      "Removed the following entry: Duine2012\n",
      "Removed the following entry: SmejkalAFM_2017\n",
      "Removed the following entry: Kane2005\n",
      "Removed the following entry: Roschewsky2017\n",
      "Removed the following entry: Bhattacharjee2018\n",
      "Removed the following entry: ezawa_photoinduced_2013-1\n",
      "Removed the following entry: Ado2017PRBcrossing\n",
      "Removed a total of 58 duplicates from the bibfile.\n",
      "\n"
     ]
    }
   ],
   "source": [
    "RemoveDuplicatesInBibfile('Bibliography.bib.backup', 'Bibliography.bib')"
   ]
  },
  {
   "cell_type": "code",
   "execution_count": null,
   "metadata": {},
   "outputs": [],
   "source": [
    "for file in files:\n",
    "    ReplaceCiteKeys(\"Bibliography.bib.backup\", )"
   ]
  }
 ],
 "metadata": {
  "kernelspec": {
   "display_name": "Python 3",
   "language": "python",
   "name": "python3"
  },
  "language_info": {
   "codemirror_mode": {
    "name": "ipython",
    "version": 3
   },
   "file_extension": ".py",
   "mimetype": "text/x-python",
   "name": "python",
   "nbconvert_exporter": "python",
   "pygments_lexer": "ipython3",
   "version": "3.8.0"
  }
 },
 "nbformat": 4,
 "nbformat_minor": 2
}
